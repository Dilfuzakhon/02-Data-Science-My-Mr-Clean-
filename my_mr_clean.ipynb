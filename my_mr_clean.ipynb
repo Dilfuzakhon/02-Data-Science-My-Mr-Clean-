{
 "cells": [
  {
   "cell_type": "code",
   "execution_count": null,
   "metadata": {},
   "outputs": [],
   "source": [
    "import re\n",
    "import requests\n",
    "import numpy as np\n",
    "import matplotlib.pyplot as plt\n",
    "import seaborn as sns\n",
    "from bs4 import BeautifulSoup\n",
    "from collections import Counter\n",
    "import nltk\n",
    "from nltk.corpus import stopwords"
   ]
  },
  {
   "cell_type": "code",
   "execution_count": null,
   "metadata": {},
   "outputs": [],
   "source": [
    "try:\n",
    "    nltk.data.find('corpora/stopwords.zip')\n",
    "except LookupError:\n",
    "    nltk.download('stopwords')\n",
    "\n",
    "stop_words = set(stopwords.words('english'))"
   ]
  },
  {
   "cell_type": "code",
   "execution_count": null,
   "metadata": {},
   "outputs": [],
   "source": [
    "def get_content(article_name):\n",
    "    url = f\"https://en.wikipedia.org/wiki/{article_name}\"\n",
    "    try:\n",
    "        response = requests.get(url)\n",
    "        soup = BeautifulSoup(response.content, \"html.parser\")\n",
    "        paragraphs = soup.find(id='bodyContent').find_all('p')\n",
    "        content = ' '.join([p.text for p in paragraphs])\n",
    "        return content\n",
    "    except Exception as e:\n",
    "        print(f\"Error: {e}\")\n",
    "        return None"
   ]
  },
  {
   "cell_type": "code",
   "execution_count": null,
   "metadata": {},
   "outputs": [],
   "source": [
    "def merge_contents(data):\n",
    "    cleaned_data = re.sub(r'\\[\\[.*?\\]\\]|\\{.*?\\}|<.*?>', '', data)\n",
    "    cleaned_data = re.sub(r'[^a-zA-Z\\s]', '', cleaned_data)\n",
    "    cleaned_data = cleaned_data.lower()\n",
    "    return cleaned_data"
   ]
  },
  {
   "cell_type": "code",
   "execution_count": null,
   "metadata": {},
   "outputs": [],
   "source": [
    "def tokenize(content):\n",
    "    return content.split()"
   ]
  },
  {
   "cell_type": "code",
   "execution_count": null,
   "metadata": {},
   "outputs": [],
   "source": [
    "def lower_collection(collection):\n",
    "    return [word.lower() for word in collection]"
   ]
  },
  {
   "cell_type": "code",
   "execution_count": null,
   "metadata": {},
   "outputs": [],
   "source": [
    "def count_word_frequencies(text):\n",
    "    return Counter(text)"
   ]
  },
  {
   "cell_type": "code",
   "execution_count": null,
   "metadata": {},
   "outputs": [],
   "source": [
    "def remove_stopwords(text):\n",
    "    return [word for word in text if word not in stop_words and word.lower() not in [\"nm\", \"uv\", \"cfcs\", \"also\"]]"
   ]
  },
  {
   "cell_type": "code",
   "execution_count": null,
   "metadata": {},
   "outputs": [],
   "source": [
    "def plot_most_frequent_words(word_counts, n=25):\n",
    "    top_words = dict(word_counts.most_common(n))\n",
    "    sns.barplot(x=list(top_words.values()), y=list(top_words.keys()), palette=\"hsv\")\n",
    "    plt.title('Top 25 Most Frequent Words')\n",
    "    plt.xlabel('Frequency')\n",
    "    plt.ylabel('Words')\n",
    "    plt.show()"
   ]
  },
  {
   "cell_type": "code",
   "execution_count": null,
   "metadata": {},
   "outputs": [],
   "source": [
    "def main():\n",
    "    article_name = \"Ozone_layer\"\n",
    "    content = get_content(article_name)\n",
    "    if content:\n",
    "        cleaned_text = merge_contents(content)\n",
    "        tokens = tokenize(cleaned_text)\n",
    "        word_frequencies = count_word_frequencies(tokens)\n",
    "        filtered_tokens = remove_stopwords(tokens)\n",
    "        filtered_word_frequencies = count_word_frequencies(filtered_tokens)\n",
    "        plot_most_frequent_words(filtered_word_frequencies)\n",
    "\n",
    "if __name__ == \"__main__\":\n",
    "    main()"
   ]
  }
 ],
 "metadata": {
  "kernelspec": {
   "display_name": "Python 3",
   "language": "python",
   "name": "python3"
  },
  "language_info": {
   "codemirror_mode": {
    "name": "ipython",
    "version": 3
   },
   "file_extension": ".py",
   "mimetype": "text/x-python",
   "name": "python",
   "nbconvert_exporter": "python",
   "pygments_lexer": "ipython3",
   "version": "3.12.0"
  },
  "orig_nbformat": 4
 },
 "nbformat": 4,
 "nbformat_minor": 2
}
